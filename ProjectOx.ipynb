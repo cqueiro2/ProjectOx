{
  "nbformat": 4,
  "nbformat_minor": 0,
  "metadata": {
    "colab": {
      "provenance": [],
      "authorship_tag": "ABX9TyMGvyuOjHzs7t1wYB8T105S",
      "include_colab_link": true
    },
    "kernelspec": {
      "name": "python3",
      "display_name": "Python 3"
    },
    "language_info": {
      "name": "python"
    }
  },
  "cells": [
    {
      "cell_type": "markdown",
      "metadata": {
        "id": "view-in-github",
        "colab_type": "text"
      },
      "source": [
        "<a href=\"https://colab.research.google.com/github/cqueiro2/ProjectOx/blob/main/ProjectOx.ipynb\" target=\"_parent\"><img src=\"https://colab.research.google.com/assets/colab-badge.svg\" alt=\"Open In Colab\"/></a>"
      ]
    },
    {
      "cell_type": "code",
      "source": [
        "!pip install -U -q google-generativeai"
      ],
      "metadata": {
        "id": "fYoEJHsBJiO-"
      },
      "execution_count": null,
      "outputs": []
    },
    {
      "cell_type": "code",
      "source": [
        "!pip install -U -q Pillow"
      ],
      "metadata": {
        "id": "wiBo1aeqSHFz"
      },
      "execution_count": null,
      "outputs": []
    },
    {
      "cell_type": "code",
      "source": [
        "!pip install -U -q google-cloud-vision google-cloud-language"
      ],
      "metadata": {
        "id": "NvyNBljQbzxi"
      },
      "execution_count": null,
      "outputs": []
    },
    {
      "cell_type": "code",
      "source": [
        "!pip install -U -q tensorflow"
      ],
      "metadata": {
        "id": "XenuxNMHYJED"
      },
      "execution_count": null,
      "outputs": []
    },
    {
      "cell_type": "code",
      "source": [
        "!pip install sentence-transformers"
      ],
      "metadata": {
        "id": "JN0JPlIxaHwv"
      },
      "execution_count": null,
      "outputs": []
    },
    {
      "cell_type": "markdown",
      "source": [
        "#Identificação da imagens e qual sua similaridade\n",
        "Combinando Embeddings de Imagem e Texto\n",
        "usa um modelo de linguagem pré-treinado (Sentence Transformer) para gerar embeddings de texto e compara-os com embeddings de imagens extraídos usando o Inception V3:\n"
      ],
      "metadata": {
        "id": "k_HqrVuMUpBF"
      }
    },
    {
      "cell_type": "code",
      "execution_count": 322,
      "metadata": {
        "id": "rjogNf5xixZR",
        "colab": {
          "base_uri": "https://localhost:8080/"
        },
        "outputId": "ee4b3b4f-fc40-4941-b9be-934ca0419fb8"
      },
      "outputs": [
        {
          "output_type": "stream",
          "name": "stdout",
          "text": [
            "Similaridade cosseno: 0.9280016\n"
          ]
        }
      ],
      "source": [
        "import tensorflow_hub as hub\n",
        "import tensorflow as tf\n",
        "import numpy as np\n",
        "import PIL\n",
        "\n",
        "# URL do modelo Inception V3 no TensorFlow Hub\n",
        "module_url = \"https://tfhub.dev/google/imagenet/inception_v3/feature_vector/4\"\n",
        "\n",
        "# Carregue o modelo\n",
        "model = hub.load(module_url)\n",
        "# Função para pré-processar a imagem\n",
        "\n",
        "def preprocess_image(image_path):\n",
        "  image = tf.io.read_file(image_path)\n",
        "  image = tf.image.decode_jpeg(image, channels=3)\n",
        "  image = tf.image.resize(image, [500, 400])\n",
        "  image = tf.keras.applications.inception_v3.preprocess_input(image)\n",
        "  return image\n",
        "\n",
        "# Lista de caminhos para as imagens\n",
        "image_paths = [\"/home/img/bovino1.jpg\", \"/home/img/bovino2.jpg\"]\n",
        "  # Lista para armazenar os embeddings\n",
        "embeddings = []\n",
        "  # Itere sobre a lista de imagens\n",
        "for image_path in image_paths:\n",
        "    # Carregue e pré-processe a imagem\n",
        "     image = preprocess_image(image_path)\n",
        "      # Extraia o embedding\n",
        "     embedding = model(image[tf.newaxis, ...])[0]\n",
        "      # Adicione o embedding à lista\n",
        "     embeddings.append(embedding)\n",
        "    #Exemplo: calcule a similaridade cosseno entre o primeiro e o segundo embedding\n",
        "similarity = np.dot(embeddings[0], embeddings[1]) / (np.linalg.norm(embeddings[0]) * np.linalg.norm(embeddings[1]))\n",
        "print(\"Similaridade cosseno:\", similarity)"
      ]
    },
    {
      "cell_type": "code",
      "source": [
        "import google.generativeai as genai\n",
        "from pathlib import Path\n",
        "import hashlib\n",
        "from IPython.display import Markdown\n",
        "from google.colab import userdata\n",
        "userdata.get('API_KEY')\n",
        "\n",
        "\n",
        "GOOGLE_API_KEY=userdata.get('API_KEY')\n",
        "genai.configure(api_key=GOOGLE_API_KEY)"
      ],
      "metadata": {
        "id": "OPotc7HS9jPz"
      },
      "execution_count": 325,
      "outputs": []
    },
    {
      "cell_type": "code",
      "source": [
        "# Set up the model\n",
        "generation_config = {\n",
        "  \"candidate_count\":1,\n",
        "  \"temperature\": 0.5,\n",
        "\n",
        "}"
      ],
      "metadata": {
        "id": "_rmIuubKKYCL"
      },
      "execution_count": 326,
      "outputs": []
    },
    {
      "cell_type": "code",
      "source": [
        "safety_settings = [\n",
        "  {\n",
        "    \"category\": \"HARM_CATEGORY_HARASSMENT\",\n",
        "    \"threshold\": \"BLOCK_MEDIUM_AND_ABOVE\"\n",
        "  },\n",
        "  {\n",
        "    \"category\": \"HARM_CATEGORY_HATE_SPEECH\",\n",
        "    \"threshold\": \"BLOCK_MEDIUM_AND_ABOVE\"\n",
        "  },\n",
        "  {\n",
        "    \"category\": \"HARM_CATEGORY_SEXUALLY_EXPLICIT\",\n",
        "    \"threshold\": \"BLOCK_MEDIUM_AND_ABOVE\"\n",
        "  },\n",
        "  {\n",
        "    \"category\": \"HARM_CATEGORY_DANGEROUS_CONTENT\",\n",
        "    \"threshold\": \"BLOCK_MEDIUM_AND_ABOVE\"\n",
        "  },\n",
        "]"
      ],
      "metadata": {
        "id": "OLoS6_WcKgtC"
      },
      "execution_count": 327,
      "outputs": []
    },
    {
      "cell_type": "code",
      "source": [
        "model = genai.GenerativeModel(model_name=\"gemini-1.5-pro-latest\",\n",
        "                              generation_config=generation_config,\n",
        "                              safety_settings=safety_settings)"
      ],
      "metadata": {
        "id": "PiO6nQ72ZiHN"
      },
      "execution_count": 328,
      "outputs": []
    },
    {
      "cell_type": "code",
      "source": [
        "chat = model.start_chat(history=[])"
      ],
      "metadata": {
        "id": "iNBd1WCBK7-l"
      },
      "execution_count": 329,
      "outputs": []
    },
    {
      "cell_type": "markdown",
      "source": [
        "Selecionar e informar a Raça e sua categorias"
      ],
      "metadata": {
        "id": "PIqGQF9jzNUw"
      }
    },
    {
      "cell_type": "code",
      "source": [
        "def selectText():\n",
        "    raca = input(\"Especifique a raça do bovino: \")\n",
        "    options = [\"Categoria: Bezerro Idade (meses): 0-1, Peso Médio (Kg): 30,  Peso Macho: 32, Peso Fêmea: 28\",\n",
        "               \"Categoria: Bezerro Idade (meses): 03,  Peso Médio (Kg): 60,  Peso Macho: 65, Peso Fêmea: 55\",\n",
        "               \"Categoria: Bezerro Idade (meses): 05, Peso Médio (Kg): 90,  Peso Macho: 98, Peso Fêmea: 82\",\n",
        "               \"Categoria: Bezerro Idade (meses): 07, Peso Médio (Kg): 120,  Peso Macho: 130, Peso Fêmea: 110\",\n",
        "               \"Categoria: Bezerro Idade (meses): 09, Peso Médio (Kg): 150,  Peso Macho: 162, Peso Fêmea: 138\",\n",
        "               \"Categoria: Bezerro Idade (meses): 11, Peso Médio (Kg): 180,  Peso Macho: 195, Peso Fêmea: 165\",\n",
        "                \"Categoria: Garrote Idade (meses): 12, Peso Médio (Kg): 210,  Peso Macho: 230, Peso Fêmea: 190\",\n",
        "                \"Categoria: Garrote Idade (meses): 13, Peso Médio (Kg): 240,  Peso Macho: 260, Peso Fêmea: 220\",\n",
        "                \"Categoria: Garrote Idade (meses): 14, Peso Médio (Kg): 270,  Peso Macho: 290, Peso Fêmea: 250\",\n",
        "               \"Categoria: Garrote Idade (meses): 15, Peso Médio (Kg): 300, Peso Macho: 320, Peso Fêmea: 280\",\n",
        "               \"Categoria: Garrote Idade (meses): 16, Peso Médio (Kg): 330,  Peso Macho: 350, Peso Fêmea: 310\",\n",
        "               \"Categoria: Garrote Idade (meses): 17, Peso Médio (Kg): 360,  Peso Macho: 380, Peso Fêmea: 340\",\n",
        "                \"Categoria: Garrote Idade (meses): 18, Peso Médio (Kg): 390,  Peso Macho: 410, Peso Fêmea: 370\",\n",
        "               \"Categoria: Adulto Idade (meses): 19+, Peso Médio (Kg): 420-550,  Peso Macho: 450-600, Peso Fêmea: 400-500\"]\n",
        "\n",
        "    # imprimir as opções\n",
        "    for i, option in enumerate(options):\n",
        "        print(f\"{i+1}. {option}\")\n",
        "\n",
        "    # usuario seleciona\n",
        "    while True:\n",
        "        try:\n",
        "            selection = int(input(\"Escolha numero da Categoria do animal (ou 0 to sair): \"))\n",
        "            if 0 <= selection <= len(options):\n",
        "                break\n",
        "            else:\n",
        "                print(\"Seleção inválida. Por favor insira um número entre 1 e\", len(options), \"or 0 to exit.\")\n",
        "        except ValueError:\n",
        "            print(\"Informação inválida. Please enter a number.\")\n",
        "\n",
        "    if selection != 0:\n",
        "        selected_option = options[selection - 1]\n",
        "        prompt=(f\"Opção selecionada: Raça: {raca} {selected_option}\")\n",
        "    return prompt\n"
      ],
      "metadata": {
        "id": "oXAmpa7Efm-g"
      },
      "execution_count": 330,
      "outputs": []
    },
    {
      "cell_type": "code",
      "source": [
        "def promptResult(prompt):\n",
        "    prompt=f\"{selectText()}\"\n",
        "    response = chat.send_message(prompt)\n",
        "    return response.text\n",
        "\n"
      ],
      "metadata": {
        "id": "p8wf1trdPXv5"
      },
      "execution_count": 331,
      "outputs": []
    },
    {
      "cell_type": "code",
      "source": [
        "def promptImage():\n",
        "  promptResult(prompt)\n",
        "  prompt_parts = [\n",
        "    \"input: \",\n",
        "    genai.upload_file(\"/home/img/bovino1.jpg\"),\n",
        "  ]\n",
        "\n",
        "  return"
      ],
      "metadata": {
        "id": "mr-KKgWpOzEe"
      },
      "execution_count": 332,
      "outputs": []
    },
    {
      "cell_type": "markdown",
      "source": [
        "Gerar o resultado da identificação informada com base na imagem."
      ],
      "metadata": {
        "id": "HN5842m7zmOE"
      }
    },
    {
      "cell_type": "code",
      "source": [
        "if similarity <= 1.0:\n",
        "    promptImage()\n",
        "    response = model.generate_content(prompt_parts)\n",
        "    print(response.text)\n",
        "else:\n",
        "   print(\"Imagem não possui similaridade\")"
      ],
      "metadata": {
        "id": "aedBitjOQjlb",
        "colab": {
          "base_uri": "https://localhost:8080/",
          "height": 603
        },
        "outputId": "5b49052e-453c-4a58-cc9a-4f64adb96fa4"
      },
      "execution_count": 334,
      "outputs": [
        {
          "output_type": "stream",
          "name": "stdout",
          "text": [
            "Especifique a raça do bovino: Nelore\n",
            "1. Categoria: Bezerro Idade (meses): 0-1, Peso Médio (Kg): 30,  Peso Macho: 32, Peso Fêmea: 28\n",
            "2. Categoria: Bezerro Idade (meses): 03,  Peso Médio (Kg): 60,  Peso Macho: 65, Peso Fêmea: 55\n",
            "3. Categoria: Bezerro Idade (meses): 05, Peso Médio (Kg): 90,  Peso Macho: 98, Peso Fêmea: 82\n",
            "4. Categoria: Bezerro Idade (meses): 07, Peso Médio (Kg): 120,  Peso Macho: 130, Peso Fêmea: 110\n",
            "5. Categoria: Bezerro Idade (meses): 09, Peso Médio (Kg): 150,  Peso Macho: 162, Peso Fêmea: 138\n",
            "6. Categoria: Bezerro Idade (meses): 11, Peso Médio (Kg): 180,  Peso Macho: 195, Peso Fêmea: 165\n",
            "7. Categoria: Garrote Idade (meses): 12, Peso Médio (Kg): 210,  Peso Macho: 230, Peso Fêmea: 190\n",
            "8. Categoria: Garrote Idade (meses): 13, Peso Médio (Kg): 240,  Peso Macho: 260, Peso Fêmea: 220\n",
            "9. Categoria: Garrote Idade (meses): 14, Peso Médio (Kg): 270,  Peso Macho: 290, Peso Fêmea: 250\n",
            "10. Categoria: Garrote Idade (meses): 15, Peso Médio (Kg): 300, Peso Macho: 320, Peso Fêmea: 280\n",
            "11. Categoria: Garrote Idade (meses): 16, Peso Médio (Kg): 330,  Peso Macho: 350, Peso Fêmea: 310\n",
            "12. Categoria: Garrote Idade (meses): 17, Peso Médio (Kg): 360,  Peso Macho: 380, Peso Fêmea: 340\n",
            "13. Categoria: Garrote Idade (meses): 18, Peso Médio (Kg): 390,  Peso Macho: 410, Peso Fêmea: 370\n",
            "14. Categoria: Adulto Idade (meses): 19+, Peso Médio (Kg): 420-550,  Peso Macho: 450-600, Peso Fêmea: 400-500\n",
            "Escolha numero da Categoria do animal (ou 0 to sair): 14\n",
            "You're on the right track! It seems you are trying to identify characteristics of a bull based on an image. However,  the information you provided about a \"Garrote\" and specific weights doesn't seem to match the image. \n",
            "\n",
            "Here's why:\n",
            "\n",
            "* **Garrote:** A garrote is a young bull, typically castrated. The bull in the image has prominent testicles, indicating it's not castrated.\n",
            "* **Weight:**  The average weight you provided (360 kg) seems low for a bull of this size and muscularity. \n",
            "\n",
            "To give you a more accurate assessment, I need the breed of the bull in the picture. Please tell me the breed, and I can help you with:\n",
            "\n",
            "* **Typical weight ranges for that breed**\n",
            "* **Potential uses for bulls of that breed**\n",
            "* **Other relevant information based on the breed** \n",
            "\n",
            "Let's get you the information you need! \n",
            "\n"
          ]
        }
      ]
    }
  ]
}